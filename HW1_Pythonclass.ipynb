{
 "cells": [
  {
   "cell_type": "markdown",
   "id": "c45f90b8",
   "metadata": {},
   "source": [
    "Write a program to replace all spaces in a string to $"
   ]
  },
  {
   "cell_type": "code",
   "execution_count": 2,
   "id": "21a4eb23",
   "metadata": {},
   "outputs": [
    {
     "name": "stdout",
     "output_type": "stream",
     "text": [
      "replace all spaces in a string to $\n",
      "result set is: all$$over\n"
     ]
    }
   ],
   "source": [
    "print(\"replace all spaces in a string to $\")\n",
    "str1 = \"all  over\"\n",
    "result_txt = str1.replace(\" \",\"$\")\n",
    "print (\"result set is:\" , result_txt)"
   ]
  },
  {
   "cell_type": "markdown",
   "id": "aca4fbab",
   "metadata": {},
   "source": [
    "Write a program to print every 3rd letter in your name in reverse order\n"
   ]
  },
  {
   "cell_type": "code",
   "execution_count": 37,
   "id": "81dcd523",
   "metadata": {},
   "outputs": [
    {
     "name": "stdout",
     "output_type": "stream",
     "text": [
      "print every 3rd letter in the name in reverse order:\n",
      "atpak\n"
     ]
    }
   ],
   "source": [
    "txt = \"komalipentela\"\n",
    "print(\"print every 3rd letter in the name in reverse order:\" )\n",
    "print(txt[::-3])"
   ]
  },
  {
   "cell_type": "markdown",
   "id": "18045a12",
   "metadata": {},
   "source": [
    "Write a program that  takes a string as input and change it to Title case"
   ]
  },
  {
   "cell_type": "code",
   "execution_count": 20,
   "id": "9c15d38e",
   "metadata": {},
   "outputs": [
    {
     "name": "stdout",
     "output_type": "stream",
     "text": [
      "string as input and change it to title case:\n",
      "I Am Done\n"
     ]
    }
   ],
   "source": [
    "str2 = \"i am done\"\n",
    "print(\"string as input and change it to title case:\")\n",
    "print(str2.title())"
   ]
  },
  {
   "cell_type": "markdown",
   "id": "7f2cbc1f",
   "metadata": {},
   "source": [
    "Write a program that takes a string as input and swap the case (upper to lower and vice versa)"
   ]
  },
  {
   "cell_type": "code",
   "execution_count": 25,
   "id": "8213de8e",
   "metadata": {},
   "outputs": [
    {
     "name": "stdout",
     "output_type": "stream",
     "text": [
      "print the output as lower to upper and vice versa:\n",
      "ALl OVeR\n"
     ]
    }
   ],
   "source": [
    "str3 = \"alL ovEr\"\n",
    "print(\"print the output as lower to upper and vice versa:\")\n",
    "print(str3.swapcase())"
   ]
  }
 ],
 "metadata": {
  "kernelspec": {
   "display_name": "Python 3 (ipykernel)",
   "language": "python",
   "name": "python3"
  },
  "language_info": {
   "codemirror_mode": {
    "name": "ipython",
    "version": 3
   },
   "file_extension": ".py",
   "mimetype": "text/x-python",
   "name": "python",
   "nbconvert_exporter": "python",
   "pygments_lexer": "ipython3",
   "version": "3.9.13"
  }
 },
 "nbformat": 4,
 "nbformat_minor": 5
}
